{
 "cells": [
  {
   "cell_type": "code",
   "execution_count": 1,
   "metadata": {},
   "outputs": [],
   "source": [
    "import numpy as np\n",
    "import string\n",
    "import random\n",
    "np.random.seed(1)\n",
    "random.seed(1)"
   ]
  },
  {
   "cell_type": "code",
   "execution_count": 2,
   "metadata": {},
   "outputs": [
    {
     "name": "stdout",
     "output_type": "stream",
     "text": [
      "500\n",
      "[['1' 'Brandon Garner' '(964) 821-2953' 'E41JRQX2']\n",
      " ['2' 'Gianni Tyler' '(498) 679-6178' 'DB4P1AQZI']\n",
      " ['3' 'Bryan Cruz' '(973) 269-8383' '86BAT']\n",
      " ...\n",
      " ['498' 'Alaina Rivera' '(883) 783-6341' 'AF2Z7F75']\n",
      " ['499' 'Nolan Galloway' '(826) 838-2107' 'M894U']\n",
      " ['500' 'Estrella Boyd' '(511) 754-5127' '5FEEZ8GE5']]\n"
     ]
    }
   ],
   "source": [
    "names = np.genfromtxt('./names.txt',dtype='str',delimiter='\\n')\n",
    "numbers = np.genfromtxt('./phoneno.txt',dtype='str',delimiter='\\n')\n",
    "print(len(names))\n",
    "Person = []\n",
    "for i in range(len(names)):\n",
    "    Person.append([i + 1,names[i],numbers[i],''.join(random.choices(string.ascii_uppercase +\n",
    "                             string.digits, k = np.random.randint(5,10)))])\n",
    "Person = np.array(Person)\n",
    "print(Person)\n"
   ]
  },
  {
   "cell_type": "code",
   "execution_count": 3,
   "metadata": {},
   "outputs": [],
   "source": [
    "\n",
    "Shifts = [['11:00','15:00'],['19:00','23:00']]\n",
    "\n",
    "Salary = [60000,15000,40000,10000]\n",
    "\n",
    "employee_ratio = 6 / 100\n",
    "employees = int(Person.shape[0] * employee_ratio)\n",
    "np.random.shuffle(Person)\n",
    "empl = np.array(Person[:employees][:,0])\n",
    "customers = np.array(Person[employees:])\n",
    "Employee = np.array(empl).reshape((empl.shape[0],1))\n",
    "es = []\n",
    "for i in range(len(Employee)):\n",
    "    es.append(Shifts[i % 2])\n",
    "Employee = np.append(Employee,np.array(es),axis=1)\n",
    "        \n",
    "ch = lambda x : \"0\" + str(x) if(x < 10) else str(x)\n"
   ]
  },
  {
   "cell_type": "code",
   "execution_count": 4,
   "metadata": {},
   "outputs": [
    {
     "name": "stdout",
     "output_type": "stream",
     "text": [
      "[[False]\n",
      " [ True]\n",
      " [ True]\n",
      " [ True]\n",
      " [False]]\n",
      "[['192' 'Pastry Chef' 'Italian' 'False']\n",
      " ['431' 'Pastry Chef' 'Italian' 'True']\n",
      " ['61' 'Station Chef' 'Mexican' 'True']\n",
      " ['28' 'Station Chef' 'Italian' 'True']\n",
      " ['217' 'Sous Chef' 'Mexican' 'False']]\n"
     ]
    }
   ],
   "source": [
    "ratios = [10,30,20,40] # manager waiter chef ( delivery person )\n",
    "typ = ['Manager','Waiter','Chef','Delivery-Person']\n",
    "r = [int((i / 100) * len(Employee)) for i in ratios]\n",
    "salaries = []\n",
    "types = []\n",
    "for i in range(len(r)):\n",
    "    for j in range(r[i]):\n",
    "        salaries.append(Salary[i])\n",
    "        types.append(typ[i])\n",
    "\n",
    "salaries = np.array(salaries).reshape((len(Employee),1))\n",
    "types = np.array(types).reshape((len(types),1))\n",
    "Employee = np.append(Employee,np.array(salaries),axis=1)\n",
    "Employee = np.append(Employee,np.array(types),axis=1)\n",
    "for  i in range(1,4):\n",
    "    r[i] = r[i] + r[i - 1]\n",
    "Manager = Employee[:r[0]][:,0]\n",
    "Waiter = Employee[(r[0] + 1):r[1]][:,0]\n",
    "Chef = Employee[(r[1] + 1):r[2]][:,0]\n",
    "Delivery_Person = Employee[(r[2] + 1):r[3]][:,0]\n",
    "Manager = Manager.reshape((Manager.shape[0],1))\n",
    "Waiter = Waiter.reshape((Waiter.shape[0],1))\n",
    "Chef = Chef.reshape((Chef.shape[0],1))\n",
    "Delivery_Person = Delivery_Person.reshape((Delivery_Person.shape[0],1))\n",
    "chef_rank = ['Head Chef', 'Sous Chef', 'Station Chef', 'Pastry Chef']\n",
    "cuisine = ['Italian','French','Mexican']\n",
    "CR = []\n",
    "Cus = []\n",
    "for i in range(Chef.shape[0]):\n",
    "    CR.append(np.random.choice(chef_rank))\n",
    "    Cus.append(np.random.choice(cuisine))\n",
    "CR = np.array(CR).reshape((len(Chef),1))\n",
    "Cus = np.array(Cus).reshape((len(Chef),1))\n",
    "Chef = np.append(Chef,CR,axis=1)\n",
    "Chef = np.append(Chef,Cus,axis=1)\n",
    "avail = [np.random.choice([True,False]) for  i in range(Chef.shape[0])]\n",
    "avail = np.array(avail,dtype='bool').reshape((Chef.shape[0],1))\n",
    "print(avail)\n",
    "Chef = np.append(Chef,avail,axis=1)\n",
    "print(Chef)\n"
   ]
  },
  {
   "cell_type": "code",
   "execution_count": 5,
   "metadata": {},
   "outputs": [],
   "source": [
    "Date = []\n",
    "Days = ['Tuesday','Wednesday','Thursday','Friday','Saturday','Sunday','Monday']\n",
    "for i in range(31):\n",
    "    Date.append([str(i + 1)+'-03-2022',Days[i % 7]])\n",
    "Date = np.array(Date)\n",
    "# print(Date)"
   ]
  },
  {
   "cell_type": "code",
   "execution_count": 6,
   "metadata": {},
   "outputs": [],
   "source": [
    "ingr = set()\n",
    "items = np.genfromtxt('./items.txt',dtype='str',delimiter='\\n')\n",
    "Item = []\n",
    "Required = []\n",
    "# print(items)\n",
    "for i in range(len(items)):\n",
    "    if(i % 3 == 0):\n",
    "        Item.append(items[i].split('.')[1])   \n",
    "    elif(i % 3 == 2):\n",
    "        for j in items[i].split('|'):\n",
    "            ingr.add(j)\n",
    "ingr = np.array(list(ingr)).reshape((len(ingr)),1)\n",
    "Ingredients = np.append((np.arange(len(ingr),dtype=int) + 1).reshape((len(ingr),1)),ingr,axis=1)\n",
    "# print(Ingredients)\n",
    "id_ingr = {}\n",
    "for i in range(Ingredients.shape[0]):\n",
    "    id_ingr[Ingredients[i][1]] = int(Ingredients[i][0])\n",
    "# print(id_ingr)\n",
    "for i in range(len(items)):\n",
    "    if(i % 3 == 2):\n",
    "        for j in items[i].split('|'):\n",
    "            Required.append([int((i + 1) / 3),id_ingr[j],np.random.randint(1,5)])\n",
    "Required = np.array(Required)\n",
    "Item = np.array(Item).reshape((len(Item)),1)\n",
    "types = ['Starter', 'Main-Course', 'Dessert', 'Beverage', 'Snack-Item']\n",
    "Cost = []\n",
    "Type = []\n",
    "is_veg = []\n",
    "avail = []\n",
    "for i in range(Item.shape[0]):\n",
    "    Cost.append(np.random.randint(200,400))\n",
    "    Type.append(np.random.choice(types))\n",
    "    is_veg.append(np.random.choice(['True','False']))\n",
    "    avail.append(np.random.choice([True,False]))\n",
    "Cost = np.array(Cost).reshape((len(Item)),1)\n",
    "Type = np.array(Type).reshape((len(Item)),1)\n",
    "is_veg = np.array(is_veg).reshape((len(Item)),1)\n",
    "avail = np.array(avail).reshape((len(Item)),1)\n",
    "Items = np.append(np.array(np.arange(len(Item)) + 1).reshape((len(Item)),1),Item,axis=1)\n",
    "Items = np.append(Items,Cost,axis=1)\n",
    "Items = np.append(Items,Type,axis=1)\n",
    "Items = np.append(Items,is_veg,axis=1)\n",
    "Items = np.append(Items,avail,axis=1)\n",
    "# print(Chef)\n",
    "Can_Cook = []\n",
    "for i in range(Chef.shape[0]):\n",
    "    r = np.arange(100) + 1\n",
    "    np.random.shuffle(r)\n",
    "    r = r[:np.random.randint(1,Items.shape[0] + 1)]\n",
    "    for j in r:\n",
    "        Can_Cook.append([int(Chef[i][0]),j])\n",
    "Can_Cook = np.array(Can_Cook)\n",
    "# print(Can_Cook)\n",
    "\n",
    "# print(Items)\n",
    "\n",
    "# print(Required)\n",
    "# print(Ingredients)"
   ]
  },
  {
   "cell_type": "code",
   "execution_count": 7,
   "metadata": {},
   "outputs": [
    {
     "name": "stderr",
     "output_type": "stream",
     "text": [
      "<ipython-input-7-d7e8e69feb0c>:3: VisibleDeprecationWarning: Creating an ndarray from ragged nested sequences (which is a list-or-tuple of lists-or-tuples-or ndarrays with different lengths or shapes) is deprecated. If you meant to do this, you must specify 'dtype=object' when creating the ndarray.\n",
      "  area1 = np.array(area1)\n"
     ]
    }
   ],
   "source": [
    "area = np.genfromtxt('./add.txt',dtype='str',delimiter='\\n')\n",
    "area1 = [i.split(',') for i in area]\n",
    "area1 = np.array(area1)\n",
    "pincode = []\n",
    "local = []\n",
    "city = []\n",
    "id = []\n",
    "x = 1\n",
    "for i in range(len(area1)):\n",
    "    pincode.append(area1[i][-1])\n",
    "    city.append(area1[i][-3])\n",
    "    local1 = area1[i][:-3]\n",
    "    local.append(\"\".join(local1))\n",
    "    id.append(x)\n",
    "    x = x+1\n",
    "\n",
    "# Area = np.append(np.append(np.array(local).reshape((len(area)),1),np.array(city).reshape((len(area),1)),axis=1),np.array(pincode).reshape((len(area),1)),axis=1)\n",
    "id = np.array(id).reshape((len(id),1))\n",
    "local = np.array(local).reshape((len(local),1))\n",
    "city = np.array(city).reshape((len(city),1))\n",
    "pincode = np.array(pincode).reshape((len(pincode),1))\n",
    "\n",
    "Area = np.append(id,local,axis=1)\n",
    "Area = np.append(Area,city,axis=1)\n",
    "Area = np.append(Area,pincode,axis=1)\n",
    "# print(Area)"
   ]
  },
  {
   "cell_type": "code",
   "execution_count": 8,
   "metadata": {},
   "outputs": [],
   "source": [
    "Special_Items = []\n",
    "for i in range(1,32):\n",
    "    Special_Items.append([\"2022-03-\" + ch(i),np.random.randint(1,60)])\n",
    "Special_Items = np.array(Special_Items)\n",
    "# print(Special_Items)"
   ]
  },
  {
   "cell_type": "code",
   "execution_count": 9,
   "metadata": {},
   "outputs": [
    {
     "name": "stdout",
     "output_type": "stream",
     "text": [
      "[['149' '3.8799875678854927' 'True' '72']\n",
      " ['404' '4.909789721711378' 'True' '33']\n",
      " ['254' '3.2023888424759184' 'True' '13']\n",
      " ['42' '4.005366567841363' 'True' '87']\n",
      " ['123' '3.49115672513156' 'False' '66']\n",
      " ['103' '4.070058079388071' 'True' '8']\n",
      " ['101' '3.25158072130937' 'False' '3']\n",
      " ['451' '4.5483959616400504' 'False' '97']\n",
      " ['380' '2.6744649462605214' 'False' '21']\n",
      " ['195' '2.6046939257499906' 'True' '4']\n",
      " ['238' '2.6234909615832858' 'True' '86']]\n"
     ]
    }
   ],
   "source": [
    "#Delivery Person\n",
    "avg_rat = [np.random.uniform(2.5,5) for i in range(Delivery_Person.shape[0])]\n",
    "avail = [np.random.choice([True,False]) for i in range(Delivery_Person.shape[0])]\n",
    "p_area = [np.random.randint(1,Area.shape[0] + 1) for i in range(Delivery_Person.shape[0])]\n",
    "\n",
    "avg_rat = np.array(avg_rat).reshape((len(Delivery_Person),1))\n",
    "avail = np.array(avail).reshape((len(Delivery_Person),1))\n",
    "p_area = np.array(p_area).reshape((len(Delivery_Person),1))\n",
    "\n",
    "Delivery_Person = np.append(Delivery_Person,avg_rat,axis=1)\n",
    "Delivery_Person = np.append(Delivery_Person,avail,axis=1)\n",
    "Delivery_Person = np.append(Delivery_Person,p_area,axis=1)\n",
    "\n",
    "print(Delivery_Person)\n",
    "\n"
   ]
  },
  {
   "cell_type": "code",
   "execution_count": 130,
   "metadata": {},
   "outputs": [],
   "source": [
    "#Tables \n",
    "no_of_tables = 15\n",
    "Tables = []\n",
    "for i in range(no_of_tables):\n",
    "    Tables.append([i + 1,np.random.randint(1,12),None,np.random.choice([True,False])])\n",
    "Tables = np.array(Tables)\n",
    "# print(Tables)"
   ]
  },
  {
   "cell_type": "code",
   "execution_count": 131,
   "metadata": {},
   "outputs": [],
   "source": [
    "#Customers\n",
    "cust = []\n",
    "# print(customers)\n",
    "for i in customers:\n",
    "    cust.append([i[0],np.random.randint(15,70),np.random.randint(5,20),np.random.randint(1,area.shape[0] + 1)])\n",
    "\n",
    "Customers = np.array(cust,dtype=int)\n",
    "# print(Customers)\n"
   ]
  },
  {
   "cell_type": "code",
   "execution_count": 132,
   "metadata": {},
   "outputs": [],
   "source": [
    "#Order\n",
    "Payment_Method = ['Cash','Card','UPI']\n",
    "Order_mode = ['Online','In-person']\n",
    "Status = ['Ordered','Prepared','Delivered','Completed']\n",
    "Rating = [1,2,3,4,5,None]\n",
    "Working_hours = [11,12,13,14,19,20,21,22]\n",
    "num_orders = 1000\n",
    "Order = []\n",
    "\n",
    "for i in range(num_orders):\n",
    "    Order.append([i + 1,np.random.randint(200,2001),np.random.choice(Payment_Method),np.random.choice(Order_mode),np.random.choice(Status),\n",
    "    np.random.randint(1,Tables.shape[0] + 1),str(np.random.choice(Working_hours)) + \":\" + ch(np.random.randint(60)),\"2022-03-\" + ch(np.random.randint(1,32)) ,np.random.choice(Rating)])\n",
    "Order = np.array(Order)\n",
    "cid = []\n",
    "da = []\n",
    "did = []\n",
    "dr = []\n",
    "che = []\n",
    "for i in range(num_orders):\n",
    "    che.append(Chef[np.random.randint(Chef.shape[0])])\n",
    "    x = np.random.randint(2)\n",
    "    if(x == 0):\n",
    "        cid.append(None)\n",
    "        da.append(None)\n",
    "        did.append(None)\n",
    "        dr.append(None)\n",
    "    else:\n",
    "        cid.append(Customers[np.random.randint(Customers.shape[0])][0])\n",
    "        da.append(Area[np.random.randint(Area.shape[0])][0])\n",
    "        did.append(Delivery_Person[np.random.randint(Delivery_Person.shape[0])][0])\n",
    "        dr.append(np.random.choice(Rating[:-1]))\n",
    "cid = np.array(cid).reshape((len(cid),1))\n",
    "da = np.array(da).reshape((len(cid),1))\n",
    "did = np.array(did).reshape((len(cid),1))\n",
    "dr = np.array(dr).reshape((len(cid),1))\n",
    "Order = np.append(Order,cid,axis=1)\n",
    "Order = np.append(Order,da,axis=1)\n",
    "Order = np.append(Order,did,axis=1)\n",
    "Order = np.append(Order,dr,axis=1)\n",
    "Order = np.append(Order,che,axis=1)\n",
    "# print(Order)"
   ]
  },
  {
   "cell_type": "code",
   "execution_count": 133,
   "metadata": {},
   "outputs": [],
   "source": [
    "#Order_Items\n",
    "Order_Items = []\n",
    "for i in range(Order.shape[0]):\n",
    "    r = np.arange(100) + 1\n",
    "    np.random.shuffle(r)\n",
    "    r = r[:np.random.randint(1,11)]\n",
    "    # print(r)\n",
    "    for j in r:\n",
    "        Order_Items.append([int(Order[i][0]),j,np.random.randint(1,5)])\n",
    "Order_Items = np.array(Order_Items)\n",
    "# print(Order_Items)"
   ]
  },
  {
   "cell_type": "code",
   "execution_count": 134,
   "metadata": {},
   "outputs": [],
   "source": [
    "Ingredients_purchased = []\n",
    "Ingredients_used = []\n",
    "for i in range(1,32):\n",
    "    date = \"2022-03-\" + ch(i)\n",
    "    r = np.arange(Ingredients.shape[0]) + 1\n",
    "    np.random.shuffle(r)\n",
    "    for j in r[:np.random.randint(10)]:\n",
    "        Ingredients_purchased.append([date,j,np.random.randint(50,100)])\n",
    "    np.random.shuffle(r)\n",
    "    for j in r[:np.random.randint(10)]:\n",
    "        Ingredients_used.append([date,j,np.random.randint(25,60)])\n",
    "Ingredients_used = np.array(Ingredients_used)\n",
    "Ingredients_purchased = np.array(Ingredients_purchased)\n",
    "# print(Ingredients_used)"
   ]
  },
  {
   "cell_type": "code",
   "execution_count": 62,
   "metadata": {},
   "outputs": [],
   "source": [
    "# print(Items.shape)\n",
    "\n",
    "f = open('./InsertData.sql','w+')   # Change on requirment"
   ]
  },
  {
   "cell_type": "code",
   "execution_count": 63,
   "metadata": {},
   "outputs": [],
   "source": [
    "\n",
    "\n",
    "for i in range(len(Area)):\n",
    "    a = Area[i][0]\n",
    "    b = Area[i][1]\n",
    "    c = Area[i][2]\n",
    "    d = Area[i][3]\n",
    "    f.write(\"INSERT INTO area (area_id, locality, city,pincode) VALUES ({}, '{}', '{}',{});\\n\".format(a,b,c,d))"
   ]
  },
  {
   "cell_type": "code",
   "execution_count": 64,
   "metadata": {},
   "outputs": [],
   "source": [
    "for i in range(len(Tables)):\n",
    "    a = Tables[i][0]\n",
    "    b = Tables[i][1]\n",
    "    c = Tables[i][2]\n",
    "    d = Tables[i][3]\n",
    "    f.write(\"INSERT INTO table_ (table_id , capacity , position, availability ) VALUES ({},{},{},{});\\n\".format(int(a),b,c,d))"
   ]
  },
  {
   "cell_type": "code",
   "execution_count": 65,
   "metadata": {},
   "outputs": [],
   "source": [
    "for i in range(len(Items)):\n",
    "    a = Items[i][0]\n",
    "    b = Items[i][1]\n",
    "    c = Items[i][2]\n",
    "    d = Items[i][3]\n",
    "    e = Items[i][4]\n",
    "    ff = Items[i][5]\n",
    "    f.write(\"INSERT INTO item (item_id , item_name,category,cost,availability,is_veg) VALUES ({},'{}','{}',{},{},{});\\n\".format(int(a),b,d,c,e,ff))"
   ]
  },
  {
   "cell_type": "code",
   "execution_count": 66,
   "metadata": {},
   "outputs": [],
   "source": [
    "for i in range(len(Ingredients)):\n",
    "    a = Ingredients[i][0]\n",
    "    b = Ingredients[i][1]\n",
    "    f.write(\"INSERT INTO ingredient (ingredient_id, name) VALUES ({}, '{}');\\n\".format(int(a),b))"
   ]
  },
  {
   "cell_type": "code",
   "execution_count": 67,
   "metadata": {},
   "outputs": [],
   "source": [
    "for i in range(len(Person)):\n",
    "    a = Person[i][0]\n",
    "    b = Person[i][1]\n",
    "    c = Person[i][2]\n",
    "    d = Person[i][3]\n",
    "    f.write(\"INSERT INTO person (id , name , phone_number, password) VALUES ({},'{}','{}','{}');\\n\".format(int(a),b,c,d))"
   ]
  },
  {
   "cell_type": "code",
   "execution_count": 68,
   "metadata": {},
   "outputs": [],
   "source": [
    "for i in range(len(Customers)):\n",
    "    a = Customers[i][0]\n",
    "    b = Customers[i][1]\n",
    "    c = Customers[i][2]\n",
    "    d = Customers[i][3]\n",
    "    f.write(\"INSERT INTO customer (id , age , discount, default_address) VALUES ({},{},{},{});\\n\".format(int(a),b,c,d))\n",
    "    # print(\"INSERT INTO customer (id , age , discount, default_address) VALUES ({},{},{},{});\".format(a,b,c,d))"
   ]
  },
  {
   "cell_type": "code",
   "execution_count": 69,
   "metadata": {},
   "outputs": [],
   "source": [
    "for i in range(len(Employee)):\n",
    "    a = Employee[i][0]\n",
    "    b = Employee[i][1]\n",
    "    c = Employee[i][2]\n",
    "    d = Employee[i][3]\n",
    "    e = Employee[i][4]\n",
    "    f.write(\"INSERT INTO employee (id ,shift_start_time, shift_end_time, employee_type, salary) VALUES ({},'{}','{}','{}',{});\\n\".format(int(a),b,c,e,d))"
   ]
  },
  {
   "cell_type": "code",
   "execution_count": 70,
   "metadata": {},
   "outputs": [],
   "source": [
    "for i in range(len(Chef)):\n",
    "    a = Chef[i][0]\n",
    "    b = Chef[i][1]\n",
    "    c = Chef[i][2]\n",
    "    d = Chef[i][3]\n",
    "    f.write(\"INSERT INTO chef (id ,cuisine, chef_rank, availability) VALUES ({},'{}','{}',{});\\n\".format(int(a),c,b,d))"
   ]
  },
  {
   "cell_type": "code",
   "execution_count": 71,
   "metadata": {},
   "outputs": [],
   "source": [
    "for i in range(len(Delivery_Person)):\n",
    "    a = Delivery_Person[i][0]\n",
    "    b = Delivery_Person[i][1]\n",
    "    c = Delivery_Person[i][3]\n",
    "    d = Delivery_Person[i][2]\n",
    "    f.write(\"INSERT INTO delivery_person (id ,average_rating, primary_area, availability) VALUES ({},{},{},{}) ;\\n\".format(int(a),b,c,d))\n",
    "# print(Delivery_Person)"
   ]
  },
  {
   "cell_type": "code",
   "execution_count": 72,
   "metadata": {},
   "outputs": [],
   "source": [
    "for i in range(len(Order)):\n",
    "    a1 = Order[i][0]\n",
    "    a2 = Order[i][1]\n",
    "    a3 = Order[i][2]\n",
    "    a4 = Order[i][3]\n",
    "    a5= Order[i][4]\n",
    "    a6= Order[i][5]\n",
    "    a7= Order[i][6]\n",
    "    a8 = Order[i][9]\n",
    "    a9 = Order[i][10]\n",
    "    a10 = Order[i][11]\n",
    "    a11 = Order[i][12]\n",
    "    a12 = Order[i][7]\n",
    "    a13 = Order[i][8]\n",
    "    a14 = Order[i][13]\n",
    "    f.write(\"INSERT INTO order_ (order_id ,total_cost,payment_method,order_mode,status,table_id,placing_time,customer_id,delivery_area,delivery_person_id,delivery_rating,order_date,order_rating, chef_id) VALUES ({},{},'{}','{}','{}',{},'{}',{},{},{},{},'{}',{},{});\\n\".format(int(a1),a2,a3,a4,a5,a6,a7,a8,a9,a10,a11,a12,a13,a14))\n",
    "\n",
    "\n",
    "# print(Order)"
   ]
  },
  {
   "cell_type": "code",
   "execution_count": 73,
   "metadata": {},
   "outputs": [],
   "source": [
    "for i in Can_Cook:\n",
    "    f.write(\"INSERT INTO can_cook (chef_id, item_id) VALUES ({},{});\\n\".format(i[0],i[1]))"
   ]
  },
  {
   "cell_type": "code",
   "execution_count": 74,
   "metadata": {},
   "outputs": [],
   "source": [
    "for i in Required:\n",
    "    f.write(\"INSERT INTO required_ (item_id, ingredient_id, quantity) VALUES ({},{},{});\\n\".format(i[0],i[1],i[2]))"
   ]
  },
  {
   "cell_type": "code",
   "execution_count": 75,
   "metadata": {},
   "outputs": [],
   "source": [
    "for i in Ingredients_purchased:\n",
    "    f.write(\"INSERT INTO ingredients_purchased (date, ingredient_id, quantity) VALUES ('{}',{},{});\\n\".format(i[0],i[1],i[2]))"
   ]
  },
  {
   "cell_type": "code",
   "execution_count": 76,
   "metadata": {},
   "outputs": [],
   "source": [
    "for i in Ingredients_used:\n",
    "    f.write(\"INSERT INTO ingredients_used (date, ingredient_id, quantity) VALUES ('{}',{},{});\\n\".format(i[0],i[1],i[2]))"
   ]
  },
  {
   "cell_type": "code",
   "execution_count": 77,
   "metadata": {},
   "outputs": [],
   "source": [
    "for i in Order_Items:\n",
    "    f.write(\"INSERT INTO order_items (item_id, order_id, item_quantity) VALUES ({},{},{});\\n\".format(int(i[1]),i[0],i[2]))"
   ]
  },
  {
   "cell_type": "code",
   "execution_count": 79,
   "metadata": {},
   "outputs": [],
   "source": [
    "for i in Special_Items:\n",
    "    f.write(\"INSERT INTO special_items (date, item_id) VALUES ('{}',{});\".format(i[0],i[1]))"
   ]
  },
  {
   "cell_type": "code",
   "execution_count": 80,
   "metadata": {},
   "outputs": [],
   "source": [
    "f.close()"
   ]
  },
  {
   "cell_type": "code",
   "execution_count": 41,
   "metadata": {},
   "outputs": [
    {
     "name": "stdout",
     "output_type": "stream",
     "text": [
      "[['441' '11:00' '15:00' '60000' 'Manager']\n",
      " ['498' '19:00' '23:00' '60000' 'Manager']\n",
      " ['370' '11:00' '15:00' '60000' 'Manager']\n",
      " ['25' '19:00' '23:00' '15000' 'Waiter']\n",
      " ['226' '11:00' '15:00' '15000' 'Waiter']\n",
      " ['141' '19:00' '23:00' '15000' 'Waiter']\n",
      " ['337' '11:00' '15:00' '15000' 'Waiter']\n",
      " ['489' '19:00' '23:00' '15000' 'Waiter']\n",
      " ['136' '11:00' '15:00' '15000' 'Waiter']\n",
      " ['109' '19:00' '23:00' '15000' 'Waiter']\n",
      " ['403' '11:00' '15:00' '15000' 'Waiter']\n",
      " ['480' '19:00' '23:00' '15000' 'Waiter']\n",
      " ['95' '11:00' '15:00' '40000' 'Chef']\n",
      " ['192' '19:00' '23:00' '40000' 'Chef']\n",
      " ['431' '11:00' '15:00' '40000' 'Chef']\n",
      " ['61' '19:00' '23:00' '40000' 'Chef']\n",
      " ['28' '11:00' '15:00' '40000' 'Chef']\n",
      " ['217' '19:00' '23:00' '40000' 'Chef']\n",
      " ['446' '11:00' '15:00' '10000' 'Delivery-Person']\n",
      " ['149' '19:00' '23:00' '10000' 'Delivery-Person']\n",
      " ['404' '11:00' '15:00' '10000' 'Delivery-Person']\n",
      " ['254' '19:00' '23:00' '10000' 'Delivery-Person']\n",
      " ['42' '11:00' '15:00' '10000' 'Delivery-Person']\n",
      " ['123' '19:00' '23:00' '10000' 'Delivery-Person']\n",
      " ['103' '11:00' '15:00' '10000' 'Delivery-Person']\n",
      " ['101' '19:00' '23:00' '10000' 'Delivery-Person']\n",
      " ['451' '11:00' '15:00' '10000' 'Delivery-Person']\n",
      " ['380' '19:00' '23:00' '10000' 'Delivery-Person']\n",
      " ['195' '11:00' '15:00' '10000' 'Delivery-Person']\n",
      " ['238' '19:00' '23:00' '10000' 'Delivery-Person']]\n"
     ]
    }
   ],
   "source": [
    "# print(Order[:,0])\n",
    "print(Employee)"
   ]
  },
  {
   "cell_type": "code",
   "execution_count": null,
   "metadata": {},
   "outputs": [],
   "source": []
  }
 ],
 "metadata": {
  "interpreter": {
   "hash": "916dbcbb3f70747c44a77c7bcd40155683ae19c65e1c03b4aa3499c5328201f1"
  },
  "kernelspec": {
   "display_name": "Python 3.8.10 64-bit",
   "language": "python",
   "name": "python3"
  },
  "language_info": {
   "codemirror_mode": {
    "name": "ipython",
    "version": 3
   },
   "file_extension": ".py",
   "mimetype": "text/x-python",
   "name": "python",
   "nbconvert_exporter": "python",
   "pygments_lexer": "ipython3",
   "version": "3.8.10"
  },
  "orig_nbformat": 4
 },
 "nbformat": 4,
 "nbformat_minor": 2
}
